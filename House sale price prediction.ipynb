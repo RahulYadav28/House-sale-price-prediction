{
 "cells": [
  {
   "cell_type": "code",
   "execution_count": 7,
   "id": "054be946",
   "metadata": {},
   "outputs": [],
   "source": [
    "#House sale Data Predication\n",
    "#Importing libraries\n",
    "#If error is shown install required library\n",
    "import numpy as np\n",
    "import pandas as pd\n",
    "import matplotlib.pyplot as plt\n",
    "import seaborn as sns\n",
    "from sklearn.preprocessing import LabelEncoder\n",
    "from sklearn.model_selection import train_test_split\n",
    "from xgboost import XGBRegressor \n",
    "from sklearn import metrics"
   ]
  },
  {
   "cell_type": "code",
   "execution_count": 8,
   "id": "27f555e9",
   "metadata": {},
   "outputs": [],
   "source": [
    "house_sale = pd.read_csv('house data.csv')# Take data from kaggle and put directory link"
   ]
  },
  {
   "cell_type": "code",
   "execution_count": 9,
   "id": "23ef6def",
   "metadata": {},
   "outputs": [
    {
     "data": {
      "text/html": [
       "<div>\n",
       "<style scoped>\n",
       "    .dataframe tbody tr th:only-of-type {\n",
       "        vertical-align: middle;\n",
       "    }\n",
       "\n",
       "    .dataframe tbody tr th {\n",
       "        vertical-align: top;\n",
       "    }\n",
       "\n",
       "    .dataframe thead th {\n",
       "        text-align: right;\n",
       "    }\n",
       "</style>\n",
       "<table border=\"1\" class=\"dataframe\">\n",
       "  <thead>\n",
       "    <tr style=\"text-align: right;\">\n",
       "      <th></th>\n",
       "      <th>Taxi_dist</th>\n",
       "      <th>Market_dist</th>\n",
       "      <th>Hospital_dist</th>\n",
       "      <th>Carpet_area</th>\n",
       "      <th>Builtup_area</th>\n",
       "      <th>Parking_type</th>\n",
       "      <th>City_type</th>\n",
       "      <th>Rainfall</th>\n",
       "      <th>Price_house</th>\n",
       "    </tr>\n",
       "  </thead>\n",
       "  <tbody>\n",
       "    <tr>\n",
       "      <th>0</th>\n",
       "      <td>9796.0</td>\n",
       "      <td>5250.0</td>\n",
       "      <td>10703.0</td>\n",
       "      <td>1659.0</td>\n",
       "      <td>1961.0</td>\n",
       "      <td>Open</td>\n",
       "      <td>CAT B</td>\n",
       "      <td>530</td>\n",
       "      <td>6649000</td>\n",
       "    </tr>\n",
       "    <tr>\n",
       "      <th>1</th>\n",
       "      <td>8294.0</td>\n",
       "      <td>8186.0</td>\n",
       "      <td>12694.0</td>\n",
       "      <td>1461.0</td>\n",
       "      <td>1752.0</td>\n",
       "      <td>Not Provided</td>\n",
       "      <td>CAT B</td>\n",
       "      <td>210</td>\n",
       "      <td>3982000</td>\n",
       "    </tr>\n",
       "    <tr>\n",
       "      <th>2</th>\n",
       "      <td>11001.0</td>\n",
       "      <td>14399.0</td>\n",
       "      <td>16991.0</td>\n",
       "      <td>1340.0</td>\n",
       "      <td>1609.0</td>\n",
       "      <td>Not Provided</td>\n",
       "      <td>CAT A</td>\n",
       "      <td>720</td>\n",
       "      <td>5401000</td>\n",
       "    </tr>\n",
       "    <tr>\n",
       "      <th>3</th>\n",
       "      <td>8301.0</td>\n",
       "      <td>11188.0</td>\n",
       "      <td>12289.0</td>\n",
       "      <td>1451.0</td>\n",
       "      <td>1748.0</td>\n",
       "      <td>Covered</td>\n",
       "      <td>CAT B</td>\n",
       "      <td>620</td>\n",
       "      <td>5373000</td>\n",
       "    </tr>\n",
       "    <tr>\n",
       "      <th>4</th>\n",
       "      <td>10510.0</td>\n",
       "      <td>12629.0</td>\n",
       "      <td>13921.0</td>\n",
       "      <td>1770.0</td>\n",
       "      <td>2111.0</td>\n",
       "      <td>Not Provided</td>\n",
       "      <td>CAT B</td>\n",
       "      <td>450</td>\n",
       "      <td>4662000</td>\n",
       "    </tr>\n",
       "  </tbody>\n",
       "</table>\n",
       "</div>"
      ],
      "text/plain": [
       "   Taxi_dist  Market_dist  Hospital_dist  Carpet_area  Builtup_area  \\\n",
       "0     9796.0       5250.0        10703.0       1659.0        1961.0   \n",
       "1     8294.0       8186.0        12694.0       1461.0        1752.0   \n",
       "2    11001.0      14399.0        16991.0       1340.0        1609.0   \n",
       "3     8301.0      11188.0        12289.0       1451.0        1748.0   \n",
       "4    10510.0      12629.0        13921.0       1770.0        2111.0   \n",
       "\n",
       "   Parking_type City_type  Rainfall  Price_house  \n",
       "0          Open     CAT B       530      6649000  \n",
       "1  Not Provided     CAT B       210      3982000  \n",
       "2  Not Provided     CAT A       720      5401000  \n",
       "3       Covered     CAT B       620      5373000  \n",
       "4  Not Provided     CAT B       450      4662000  "
      ]
     },
     "execution_count": 9,
     "metadata": {},
     "output_type": "execute_result"
    }
   ],
   "source": [
    "house_sale.head()"
   ]
  },
  {
   "cell_type": "code",
   "execution_count": 10,
   "id": "c7028f04",
   "metadata": {},
   "outputs": [
    {
     "data": {
      "text/plain": [
       "(932, 9)"
      ]
     },
     "execution_count": 10,
     "metadata": {},
     "output_type": "execute_result"
    }
   ],
   "source": [
    "house_sale.shape"
   ]
  },
  {
   "cell_type": "code",
   "execution_count": 11,
   "id": "b7795a38",
   "metadata": {},
   "outputs": [
    {
     "name": "stdout",
     "output_type": "stream",
     "text": [
      "<class 'pandas.core.frame.DataFrame'>\n",
      "RangeIndex: 932 entries, 0 to 931\n",
      "Data columns (total 9 columns):\n",
      " #   Column         Non-Null Count  Dtype  \n",
      "---  ------         --------------  -----  \n",
      " 0   Taxi_dist      919 non-null    float64\n",
      " 1   Market_dist    919 non-null    float64\n",
      " 2   Hospital_dist  931 non-null    float64\n",
      " 3   Carpet_area    924 non-null    float64\n",
      " 4   Builtup_area   917 non-null    float64\n",
      " 5   Parking_type   932 non-null    object \n",
      " 6   City_type      932 non-null    object \n",
      " 7   Rainfall       932 non-null    int64  \n",
      " 8   Price_house    932 non-null    int64  \n",
      "dtypes: float64(5), int64(2), object(2)\n",
      "memory usage: 65.7+ KB\n"
     ]
    }
   ],
   "source": [
    "house_sale.info()"
   ]
  },
  {
   "cell_type": "code",
   "execution_count": 12,
   "id": "b7393100",
   "metadata": {},
   "outputs": [
    {
     "data": {
      "text/plain": [
       "Taxi_dist        13\n",
       "Market_dist      13\n",
       "Hospital_dist     1\n",
       "Carpet_area       8\n",
       "Builtup_area     15\n",
       "Parking_type      0\n",
       "City_type         0\n",
       "Rainfall          0\n",
       "Price_house       0\n",
       "dtype: int64"
      ]
     },
     "execution_count": 12,
     "metadata": {},
     "output_type": "execute_result"
    }
   ],
   "source": [
    "house_sale.isnull().sum()# Find null data in each column"
   ]
  },
  {
   "cell_type": "code",
   "execution_count": 13,
   "id": "0f9f3c91",
   "metadata": {},
   "outputs": [
    {
     "data": {
      "text/plain": [
       "8229.727965179543"
      ]
     },
     "execution_count": 13,
     "metadata": {},
     "output_type": "execute_result"
    }
   ],
   "source": [
    "house_sale['Taxi_dist'].mean()"
   ]
  },
  {
   "cell_type": "code",
   "execution_count": 14,
   "id": "646fb022",
   "metadata": {},
   "outputs": [],
   "source": [
    "house_sale['Taxi_dist'].fillna(house_sale['Taxi_dist'].mean(), inplace=True)#replace Null Values with mean value of other data respective column\n",
    "house_sale['Market_dist'].fillna(house_sale['Market_dist'].mean(), inplace=True)\n",
    "house_sale['Hospital_dist'].fillna(house_sale['Hospital_dist'].mean(), inplace=True)\n",
    "house_sale['Carpet_area'].fillna(house_sale['Carpet_area'].mean(), inplace=True)\n",
    "house_sale['Builtup_area'].fillna(house_sale['Builtup_area'].mean(), inplace=True)"
   ]
  },
  {
   "cell_type": "code",
   "execution_count": 15,
   "id": "63cbd837",
   "metadata": {},
   "outputs": [
    {
     "data": {
      "text/plain": [
       "Taxi_dist        0\n",
       "Market_dist      0\n",
       "Hospital_dist    0\n",
       "Carpet_area      0\n",
       "Builtup_area     0\n",
       "Parking_type     0\n",
       "City_type        0\n",
       "Rainfall         0\n",
       "Price_house      0\n",
       "dtype: int64"
      ]
     },
     "execution_count": 15,
     "metadata": {},
     "output_type": "execute_result"
    }
   ],
   "source": [
    "house_sale.isnull().sum()#check data again. No null data found"
   ]
  },
  {
   "cell_type": "code",
   "execution_count": 16,
   "id": "b8b98550",
   "metadata": {},
   "outputs": [
    {
     "data": {
      "text/html": [
       "<div>\n",
       "<style scoped>\n",
       "    .dataframe tbody tr th:only-of-type {\n",
       "        vertical-align: middle;\n",
       "    }\n",
       "\n",
       "    .dataframe tbody tr th {\n",
       "        vertical-align: top;\n",
       "    }\n",
       "\n",
       "    .dataframe thead th {\n",
       "        text-align: right;\n",
       "    }\n",
       "</style>\n",
       "<table border=\"1\" class=\"dataframe\">\n",
       "  <thead>\n",
       "    <tr style=\"text-align: right;\">\n",
       "      <th></th>\n",
       "      <th>Taxi_dist</th>\n",
       "      <th>Market_dist</th>\n",
       "      <th>Hospital_dist</th>\n",
       "      <th>Carpet_area</th>\n",
       "      <th>Builtup_area</th>\n",
       "      <th>Rainfall</th>\n",
       "      <th>Price_house</th>\n",
       "    </tr>\n",
       "  </thead>\n",
       "  <tbody>\n",
       "    <tr>\n",
       "      <th>count</th>\n",
       "      <td>932.000000</td>\n",
       "      <td>932.000000</td>\n",
       "      <td>932.000000</td>\n",
       "      <td>932.000000</td>\n",
       "      <td>932.000000</td>\n",
       "      <td>932.000000</td>\n",
       "      <td>9.320000e+02</td>\n",
       "    </tr>\n",
       "    <tr>\n",
       "      <th>mean</th>\n",
       "      <td>8229.727965</td>\n",
       "      <td>11018.752992</td>\n",
       "      <td>13072.092374</td>\n",
       "      <td>1511.862554</td>\n",
       "      <td>1794.924755</td>\n",
       "      <td>785.579399</td>\n",
       "      <td>6.084695e+06</td>\n",
       "    </tr>\n",
       "    <tr>\n",
       "      <th>std</th>\n",
       "      <td>2544.035013</td>\n",
       "      <td>2526.097159</td>\n",
       "      <td>2585.066714</td>\n",
       "      <td>787.563962</td>\n",
       "      <td>464.372718</td>\n",
       "      <td>265.546853</td>\n",
       "      <td>5.025364e+06</td>\n",
       "    </tr>\n",
       "    <tr>\n",
       "      <th>min</th>\n",
       "      <td>146.000000</td>\n",
       "      <td>1666.000000</td>\n",
       "      <td>3227.000000</td>\n",
       "      <td>775.000000</td>\n",
       "      <td>932.000000</td>\n",
       "      <td>-110.000000</td>\n",
       "      <td>3.000000e+04</td>\n",
       "    </tr>\n",
       "    <tr>\n",
       "      <th>25%</th>\n",
       "      <td>6496.000000</td>\n",
       "      <td>9371.750000</td>\n",
       "      <td>11301.750000</td>\n",
       "      <td>1319.750000</td>\n",
       "      <td>1586.750000</td>\n",
       "      <td>600.000000</td>\n",
       "      <td>4.658000e+06</td>\n",
       "    </tr>\n",
       "    <tr>\n",
       "      <th>50%</th>\n",
       "      <td>8229.727965</td>\n",
       "      <td>11112.000000</td>\n",
       "      <td>13154.500000</td>\n",
       "      <td>1484.000000</td>\n",
       "      <td>1777.500000</td>\n",
       "      <td>780.000000</td>\n",
       "      <td>5.866000e+06</td>\n",
       "    </tr>\n",
       "    <tr>\n",
       "      <th>75%</th>\n",
       "      <td>9918.750000</td>\n",
       "      <td>12653.000000</td>\n",
       "      <td>14803.500000</td>\n",
       "      <td>1652.250000</td>\n",
       "      <td>1979.500000</td>\n",
       "      <td>970.000000</td>\n",
       "      <td>7.187250e+06</td>\n",
       "    </tr>\n",
       "    <tr>\n",
       "      <th>max</th>\n",
       "      <td>20662.000000</td>\n",
       "      <td>20945.000000</td>\n",
       "      <td>23294.000000</td>\n",
       "      <td>24300.000000</td>\n",
       "      <td>12730.000000</td>\n",
       "      <td>1560.000000</td>\n",
       "      <td>1.500000e+08</td>\n",
       "    </tr>\n",
       "  </tbody>\n",
       "</table>\n",
       "</div>"
      ],
      "text/plain": [
       "          Taxi_dist   Market_dist  Hospital_dist   Carpet_area  Builtup_area  \\\n",
       "count    932.000000    932.000000     932.000000    932.000000    932.000000   \n",
       "mean    8229.727965  11018.752992   13072.092374   1511.862554   1794.924755   \n",
       "std     2544.035013   2526.097159    2585.066714    787.563962    464.372718   \n",
       "min      146.000000   1666.000000    3227.000000    775.000000    932.000000   \n",
       "25%     6496.000000   9371.750000   11301.750000   1319.750000   1586.750000   \n",
       "50%     8229.727965  11112.000000   13154.500000   1484.000000   1777.500000   \n",
       "75%     9918.750000  12653.000000   14803.500000   1652.250000   1979.500000   \n",
       "max    20662.000000  20945.000000   23294.000000  24300.000000  12730.000000   \n",
       "\n",
       "          Rainfall   Price_house  \n",
       "count   932.000000  9.320000e+02  \n",
       "mean    785.579399  6.084695e+06  \n",
       "std     265.546853  5.025364e+06  \n",
       "min    -110.000000  3.000000e+04  \n",
       "25%     600.000000  4.658000e+06  \n",
       "50%     780.000000  5.866000e+06  \n",
       "75%     970.000000  7.187250e+06  \n",
       "max    1560.000000  1.500000e+08  "
      ]
     },
     "execution_count": 16,
     "metadata": {},
     "output_type": "execute_result"
    }
   ],
   "source": [
    "house_sale.describe() # statistics of all numerical data column "
   ]
  },
  {
   "cell_type": "code",
   "execution_count": 17,
   "id": "9ead17a9",
   "metadata": {},
   "outputs": [],
   "source": [
    "sns.set() #High-level interface for drawing attractive and informative statistical graphics.\n"
   ]
  },
  {
   "cell_type": "code",
   "execution_count": 18,
   "id": "11c51c3e",
   "metadata": {},
   "outputs": [
    {
     "name": "stderr",
     "output_type": "stream",
     "text": [
      "E:\\anaconda\\lib\\site-packages\\seaborn\\distributions.py:2557: FutureWarning: `distplot` is a deprecated function and will be removed in a future version. Please adapt your code to use either `displot` (a figure-level function with similar flexibility) or `histplot` (an axes-level function for histograms).\n",
      "  warnings.warn(msg, FutureWarning)\n"
     ]
    },
    {
     "data": {
      "image/png": "[encoded data removed]",
      "text/plain": [
       "<Figure size 432x432 with 1 Axes>"
      ]
     },
     "metadata": {},
     "output_type": "display_data"
    }
   ],
   "source": [
    "plt.figure(figsize=(6,6)) #Ploting graph for Taxi Dist\n",
    "sns.distplot(house_sale['Taxi_dist'])\n",
    "plt.show()"
   ]
  },
  {
   "cell_type": "code",
   "execution_count": 19,
   "id": "4a61c6f2",
   "metadata": {},
   "outputs": [
    {
     "name": "stderr",
     "output_type": "stream",
     "text": [
      "E:\\anaconda\\lib\\site-packages\\seaborn\\distributions.py:2557: FutureWarning: `distplot` is a deprecated function and will be removed in a future version. Please adapt your code to use either `displot` (a figure-level function with similar flexibility) or `histplot` (an axes-level function for histograms).\n",
      "  warnings.warn(msg, FutureWarning)\n"
     ]
    },
    {
     "data": {
      "image/png": "[encoded data removed]",
      "text/plain": [
       "<Figure size 432x432 with 1 Axes>"
      ]
     },
     "metadata": {},
     "output_type": "display_data"
    }
   ],
   "source": [
    "plt.figure(figsize=(6,6))#Ploting graph for Market dist\n",
    "sns.distplot(house_sale['Market_dist'])\n",
    "plt.show()"
   ]
  },
  {
   "cell_type": "code",
   "execution_count": 20,
   "id": "fc884fee",
   "metadata": {},
   "outputs": [
    {
     "name": "stderr",
     "output_type": "stream",
     "text": [
      "E:\\anaconda\\lib\\site-packages\\seaborn\\distributions.py:2557: FutureWarning: `distplot` is a deprecated function and will be removed in a future version. Please adapt your code to use either `displot` (a figure-level function with similar flexibility) or `histplot` (an axes-level function for histograms).\n",
      "  warnings.warn(msg, FutureWarning)\n"
     ]
    },
    {
     "data": {
      "image/png": "[encoded data removed]",
      "text/plain": [
       "<Figure size 432x432 with 1 Axes>"
      ]
     },
     "metadata": {},
     "output_type": "display_data"
    }
   ],
   "source": [
    "plt.figure(figsize=(6,6))#Ploting graph for Price house\n",
    "sns.distplot(house_sale['Price_house'])\n",
    "plt.show()"
   ]
  },
  {
   "cell_type": "code",
   "execution_count": 21,
   "id": "b7615948",
   "metadata": {},
   "outputs": [
    {
     "data": {
      "text/html": [
       "<div>\n",
       "<style scoped>\n",
       "    .dataframe tbody tr th:only-of-type {\n",
       "        vertical-align: middle;\n",
       "    }\n",
       "\n",
       "    .dataframe tbody tr th {\n",
       "        vertical-align: top;\n",
       "    }\n",
       "\n",
       "    .dataframe thead th {\n",
       "        text-align: right;\n",
       "    }\n",
       "</style>\n",
       "<table border=\"1\" class=\"dataframe\">\n",
       "  <thead>\n",
       "    <tr style=\"text-align: right;\">\n",
       "      <th></th>\n",
       "      <th>Taxi_dist</th>\n",
       "      <th>Market_dist</th>\n",
       "      <th>Hospital_dist</th>\n",
       "      <th>Carpet_area</th>\n",
       "      <th>Builtup_area</th>\n",
       "      <th>Parking_type</th>\n",
       "      <th>City_type</th>\n",
       "      <th>Rainfall</th>\n",
       "      <th>Price_house</th>\n",
       "    </tr>\n",
       "  </thead>\n",
       "  <tbody>\n",
       "    <tr>\n",
       "      <th>0</th>\n",
       "      <td>9796.0</td>\n",
       "      <td>5250.0</td>\n",
       "      <td>10703.0</td>\n",
       "      <td>1659.0</td>\n",
       "      <td>1961.0</td>\n",
       "      <td>Open</td>\n",
       "      <td>CAT B</td>\n",
       "      <td>530</td>\n",
       "      <td>6649000</td>\n",
       "    </tr>\n",
       "    <tr>\n",
       "      <th>1</th>\n",
       "      <td>8294.0</td>\n",
       "      <td>8186.0</td>\n",
       "      <td>12694.0</td>\n",
       "      <td>1461.0</td>\n",
       "      <td>1752.0</td>\n",
       "      <td>Not Provided</td>\n",
       "      <td>CAT B</td>\n",
       "      <td>210</td>\n",
       "      <td>3982000</td>\n",
       "    </tr>\n",
       "    <tr>\n",
       "      <th>2</th>\n",
       "      <td>11001.0</td>\n",
       "      <td>14399.0</td>\n",
       "      <td>16991.0</td>\n",
       "      <td>1340.0</td>\n",
       "      <td>1609.0</td>\n",
       "      <td>Not Provided</td>\n",
       "      <td>CAT A</td>\n",
       "      <td>720</td>\n",
       "      <td>5401000</td>\n",
       "    </tr>\n",
       "    <tr>\n",
       "      <th>3</th>\n",
       "      <td>8301.0</td>\n",
       "      <td>11188.0</td>\n",
       "      <td>12289.0</td>\n",
       "      <td>1451.0</td>\n",
       "      <td>1748.0</td>\n",
       "      <td>Covered</td>\n",
       "      <td>CAT B</td>\n",
       "      <td>620</td>\n",
       "      <td>5373000</td>\n",
       "    </tr>\n",
       "    <tr>\n",
       "      <th>4</th>\n",
       "      <td>10510.0</td>\n",
       "      <td>12629.0</td>\n",
       "      <td>13921.0</td>\n",
       "      <td>1770.0</td>\n",
       "      <td>2111.0</td>\n",
       "      <td>Not Provided</td>\n",
       "      <td>CAT B</td>\n",
       "      <td>450</td>\n",
       "      <td>4662000</td>\n",
       "    </tr>\n",
       "  </tbody>\n",
       "</table>\n",
       "</div>"
      ],
      "text/plain": [
       "   Taxi_dist  Market_dist  Hospital_dist  Carpet_area  Builtup_area  \\\n",
       "0     9796.0       5250.0        10703.0       1659.0        1961.0   \n",
       "1     8294.0       8186.0        12694.0       1461.0        1752.0   \n",
       "2    11001.0      14399.0        16991.0       1340.0        1609.0   \n",
       "3     8301.0      11188.0        12289.0       1451.0        1748.0   \n",
       "4    10510.0      12629.0        13921.0       1770.0        2111.0   \n",
       "\n",
       "   Parking_type City_type  Rainfall  Price_house  \n",
       "0          Open     CAT B       530      6649000  \n",
       "1  Not Provided     CAT B       210      3982000  \n",
       "2  Not Provided     CAT A       720      5401000  \n",
       "3       Covered     CAT B       620      5373000  \n",
       "4  Not Provided     CAT B       450      4662000  "
      ]
     },
     "execution_count": 21,
     "metadata": {},
     "output_type": "execute_result"
    }
   ],
   "source": [
    "house_sale.head()#Top five entry are visible of the dataset"
   ]
  },
  {
   "cell_type": "code",
   "execution_count": 22,
   "id": "1c6f84ea",
   "metadata": {},
   "outputs": [
    {
     "data": {
      "text/plain": [
       "Open            372\n",
       "Not Provided    227\n",
       "Covered         188\n",
       "No Parking      145\n",
       "Name: Parking_type, dtype: int64"
      ]
     },
     "execution_count": 22,
     "metadata": {},
     "output_type": "execute_result"
    }
   ],
   "source": [
    "house_sale['Parking_type'].value_counts()#checking same type of words"
   ]
  },
  {
   "cell_type": "code",
   "execution_count": 23,
   "id": "8380be9c",
   "metadata": {},
   "outputs": [],
   "source": [
    "house_sale.replace({'Parking_type': {'No Parking':'Not Provided'}}, inplace=True)#replacing same type of words with one of them"
   ]
  },
  {
   "cell_type": "code",
   "execution_count": 24,
   "id": "c58ddc8a",
   "metadata": {},
   "outputs": [
    {
     "data": {
      "text/plain": [
       "Open            372\n",
       "Not Provided    372\n",
       "Covered         188\n",
       "Name: Parking_type, dtype: int64"
      ]
     },
     "execution_count": 24,
     "metadata": {},
     "output_type": "execute_result"
    }
   ],
   "source": [
    "house_sale['Parking_type'].value_counts()"
   ]
  },
  {
   "cell_type": "code",
   "execution_count": 25,
   "id": "331e7370",
   "metadata": {},
   "outputs": [
    {
     "data": {
      "text/plain": [
       "CAT B    365\n",
       "CAT A    329\n",
       "CAT C    238\n",
       "Name: City_type, dtype: int64"
      ]
     },
     "execution_count": 25,
     "metadata": {},
     "output_type": "execute_result"
    }
   ],
   "source": [
    "house_sale['City_type'].value_counts()"
   ]
  },
  {
   "cell_type": "code",
   "execution_count": 26,
   "id": "a4389874",
   "metadata": {},
   "outputs": [],
   "source": [
    "encoder = LabelEncoder()#changing the object datatype into integer data type because ML does not allow regression on object data type"
   ]
  },
  {
   "cell_type": "code",
   "execution_count": 27,
   "id": "19ec522a",
   "metadata": {},
   "outputs": [],
   "source": [
    "house_sale['Parking_type'] = encoder.fit_transform(house_sale['Parking_type'])#changing object data type into integer data type\n",
    "\n",
    "house_sale['City_type'] = encoder.fit_transform(house_sale['City_type'])\n"
   ]
  },
  {
   "cell_type": "code",
   "execution_count": 28,
   "id": "b78e24ef",
   "metadata": {},
   "outputs": [
    {
     "data": {
      "text/html": [
       "<div>\n",
       "<style scoped>\n",
       "    .dataframe tbody tr th:only-of-type {\n",
       "        vertical-align: middle;\n",
       "    }\n",
       "\n",
       "    .dataframe tbody tr th {\n",
       "        vertical-align: top;\n",
       "    }\n",
       "\n",
       "    .dataframe thead th {\n",
       "        text-align: right;\n",
       "    }\n",
       "</style>\n",
       "<table border=\"1\" class=\"dataframe\">\n",
       "  <thead>\n",
       "    <tr style=\"text-align: right;\">\n",
       "      <th></th>\n",
       "      <th>Taxi_dist</th>\n",
       "      <th>Market_dist</th>\n",
       "      <th>Hospital_dist</th>\n",
       "      <th>Carpet_area</th>\n",
       "      <th>Builtup_area</th>\n",
       "      <th>Parking_type</th>\n",
       "      <th>City_type</th>\n",
       "      <th>Rainfall</th>\n",
       "      <th>Price_house</th>\n",
       "    </tr>\n",
       "  </thead>\n",
       "  <tbody>\n",
       "    <tr>\n",
       "      <th>927</th>\n",
       "      <td>12176.0</td>\n",
       "      <td>8518.0</td>\n",
       "      <td>15673.0</td>\n",
       "      <td>1582.0</td>\n",
       "      <td>1910.0</td>\n",
       "      <td>0</td>\n",
       "      <td>2</td>\n",
       "      <td>1080</td>\n",
       "      <td>6639000</td>\n",
       "    </tr>\n",
       "    <tr>\n",
       "      <th>928</th>\n",
       "      <td>7214.0</td>\n",
       "      <td>8717.0</td>\n",
       "      <td>10553.0</td>\n",
       "      <td>1387.0</td>\n",
       "      <td>1663.0</td>\n",
       "      <td>2</td>\n",
       "      <td>0</td>\n",
       "      <td>850</td>\n",
       "      <td>8208000</td>\n",
       "    </tr>\n",
       "    <tr>\n",
       "      <th>929</th>\n",
       "      <td>7423.0</td>\n",
       "      <td>11708.0</td>\n",
       "      <td>13220.0</td>\n",
       "      <td>1200.0</td>\n",
       "      <td>1436.0</td>\n",
       "      <td>2</td>\n",
       "      <td>0</td>\n",
       "      <td>1060</td>\n",
       "      <td>7644000</td>\n",
       "    </tr>\n",
       "    <tr>\n",
       "      <th>930</th>\n",
       "      <td>15082.0</td>\n",
       "      <td>14700.0</td>\n",
       "      <td>19617.0</td>\n",
       "      <td>1299.0</td>\n",
       "      <td>1560.0</td>\n",
       "      <td>2</td>\n",
       "      <td>1</td>\n",
       "      <td>770</td>\n",
       "      <td>9661000</td>\n",
       "    </tr>\n",
       "    <tr>\n",
       "      <th>931</th>\n",
       "      <td>9297.0</td>\n",
       "      <td>12537.0</td>\n",
       "      <td>14418.0</td>\n",
       "      <td>1174.0</td>\n",
       "      <td>1429.0</td>\n",
       "      <td>0</td>\n",
       "      <td>2</td>\n",
       "      <td>1110</td>\n",
       "      <td>5434000</td>\n",
       "    </tr>\n",
       "  </tbody>\n",
       "</table>\n",
       "</div>"
      ],
      "text/plain": [
       "     Taxi_dist  Market_dist  Hospital_dist  Carpet_area  Builtup_area  \\\n",
       "927    12176.0       8518.0        15673.0       1582.0        1910.0   \n",
       "928     7214.0       8717.0        10553.0       1387.0        1663.0   \n",
       "929     7423.0      11708.0        13220.0       1200.0        1436.0   \n",
       "930    15082.0      14700.0        19617.0       1299.0        1560.0   \n",
       "931     9297.0      12537.0        14418.0       1174.0        1429.0   \n",
       "\n",
       "     Parking_type  City_type  Rainfall  Price_house  \n",
       "927             0          2      1080      6639000  \n",
       "928             2          0       850      8208000  \n",
       "929             2          0      1060      7644000  \n",
       "930             2          1       770      9661000  \n",
       "931             0          2      1110      5434000  "
      ]
     },
     "execution_count": 28,
     "metadata": {},
     "output_type": "execute_result"
    }
   ],
   "source": [
    "house_sale.tail()"
   ]
  },
  {
   "cell_type": "code",
   "execution_count": 29,
   "id": "42956b23",
   "metadata": {},
   "outputs": [],
   "source": [
    "X = house_sale.drop(columns='Price_house', axis=1)#droping  house price column from the dataset\n",
    "Y = house_sale['Price_house']#putting  House price(output) column in Y axis"
   ]
  },
  {
   "cell_type": "code",
   "execution_count": 30,
   "id": "1bd1cd2e",
   "metadata": {},
   "outputs": [
    {
     "name": "stdout",
     "output_type": "stream",
     "text": [
      "     Taxi_dist  Market_dist  Hospital_dist  Carpet_area  Builtup_area  \\\n",
      "0       9796.0       5250.0        10703.0       1659.0        1961.0   \n",
      "1       8294.0       8186.0        12694.0       1461.0        1752.0   \n",
      "2      11001.0      14399.0        16991.0       1340.0        1609.0   \n",
      "3       8301.0      11188.0        12289.0       1451.0        1748.0   \n",
      "4      10510.0      12629.0        13921.0       1770.0        2111.0   \n",
      "..         ...          ...            ...          ...           ...   \n",
      "927    12176.0       8518.0        15673.0       1582.0        1910.0   \n",
      "928     7214.0       8717.0        10553.0       1387.0        1663.0   \n",
      "929     7423.0      11708.0        13220.0       1200.0        1436.0   \n",
      "930    15082.0      14700.0        19617.0       1299.0        1560.0   \n",
      "931     9297.0      12537.0        14418.0       1174.0        1429.0   \n",
      "\n",
      "     Parking_type  City_type  Rainfall  \n",
      "0               2          1       530  \n",
      "1               1          1       210  \n",
      "2               1          0       720  \n",
      "3               0          1       620  \n",
      "4               1          1       450  \n",
      "..            ...        ...       ...  \n",
      "927             0          2      1080  \n",
      "928             2          0       850  \n",
      "929             2          0      1060  \n",
      "930             2          1       770  \n",
      "931             0          2      1110  \n",
      "\n",
      "[932 rows x 8 columns]\n"
     ]
    }
   ],
   "source": [
    "print(X)"
   ]
  },
  {
   "cell_type": "code",
   "execution_count": 31,
   "id": "a9c9bbb4",
   "metadata": {},
   "outputs": [
    {
     "name": "stdout",
     "output_type": "stream",
     "text": [
      "0      6649000\n",
      "1      3982000\n",
      "2      5401000\n",
      "3      5373000\n",
      "4      4662000\n",
      "        ...   \n",
      "927    6639000\n",
      "928    8208000\n",
      "929    7644000\n",
      "930    9661000\n",
      "931    5434000\n",
      "Name: Price_house, Length: 932, dtype: int64\n"
     ]
    }
   ],
   "source": [
    "print(Y)"
   ]
  },
  {
   "cell_type": "code",
   "execution_count": 32,
   "id": "581a4393",
   "metadata": {},
   "outputs": [],
   "source": [
    "#Evaluation"
   ]
  },
  {
   "cell_type": "code",
   "execution_count": 33,
   "id": "6bc61beb",
   "metadata": {},
   "outputs": [],
   "source": [
    "X_train, X_test, Y_train, Y_test = train_test_split(X, Y, test_size=0.2, random_state=3)#dividing X and Y into train and test data set"
   ]
  },
  {
   "cell_type": "code",
   "execution_count": 34,
   "id": "ffcf11b5",
   "metadata": {},
   "outputs": [
    {
     "name": "stdout",
     "output_type": "stream",
     "text": [
      "(932, 8) (745, 8) (187, 8)\n"
     ]
    }
   ],
   "source": [
    "print(X.shape, X_train.shape, X_test.shape)"
   ]
  },
  {
   "cell_type": "code",
   "execution_count": 35,
   "id": "075deeb7",
   "metadata": {},
   "outputs": [],
   "source": [
    "regressor = XGBRegressor()#calling XGBRegressor."
   ]
  },
  {
   "cell_type": "code",
   "execution_count": 36,
   "id": "893a7f3f",
   "metadata": {},
   "outputs": [
    {
     "data": {
      "text/plain": [
       "XGBRegressor(base_score=0.5, booster='gbtree', colsample_bylevel=1,\n",
       "             colsample_bynode=1, colsample_bytree=1, gamma=0, gpu_id=-1,\n",
       "             importance_type='gain', interaction_constraints='',\n",
       "             learning_rate=0.300000012, max_delta_step=0, max_depth=6,\n",
       "             min_child_weight=1, missing=nan, monotone_constraints='()',\n",
       "             n_estimators=100, n_jobs=8, num_parallel_tree=1, random_state=0,\n",
       "             reg_alpha=0, reg_lambda=1, scale_pos_weight=1, subsample=1,\n",
       "             tree_method='exact', validate_parameters=1, verbosity=None)"
      ]
     },
     "execution_count": 36,
     "metadata": {},
     "output_type": "execute_result"
    }
   ],
   "source": [
    "regressor.fit(X_train, Y_train)#fitting training data set"
   ]
  },
  {
   "cell_type": "code",
   "execution_count": 37,
   "id": "67991a02",
   "metadata": {},
   "outputs": [],
   "source": [
    "training_data_prediction = regressor.predict(X_train)# check prediction of train data set"
   ]
  },
  {
   "cell_type": "code",
   "execution_count": 38,
   "id": "ef5e18ad",
   "metadata": {},
   "outputs": [],
   "source": [
    "r2_train = metrics.r2_score(Y_train, training_data_prediction)# find r2 scored using actual output and prediction"
   ]
  },
  {
   "cell_type": "code",
   "execution_count": 39,
   "id": "19785556",
   "metadata": {},
   "outputs": [
    {
     "name": "stdout",
     "output_type": "stream",
     "text": [
      "R Squared value =  0.9997433193198532\n"
     ]
    }
   ],
   "source": [
    "print('R Squared value = ', r2_train)"
   ]
  },
  {
   "cell_type": "code",
   "execution_count": 40,
   "id": "2fe4bbc0",
   "metadata": {},
   "outputs": [],
   "source": [
    "test_data_prediction = regressor.predict(X_test)# check prediction of test data set"
   ]
  },
  {
   "cell_type": "code",
   "execution_count": 41,
   "id": "146d2d59",
   "metadata": {},
   "outputs": [],
   "source": [
    "r2_test = metrics.r2_score(Y_test, test_data_prediction)#find r2 scored using actual output and prediction"
   ]
  },
  {
   "cell_type": "code",
   "execution_count": 42,
   "id": "6f1e6b66",
   "metadata": {},
   "outputs": [
    {
     "name": "stdout",
     "output_type": "stream",
     "text": [
      "R Squared value =  0.4455483117901182\n"
     ]
    }
   ],
   "source": [
    "print('R Squared value = ', r2_test)"
   ]
  },
  {
   "cell_type": "code",
   "execution_count": 43,
   "id": "d32eaeda",
   "metadata": {},
   "outputs": [
    {
     "name": "stdout",
     "output_type": "stream",
     "text": [
      "[7363804.5 7716462.5 5979490.  6175803.5 4922339.5]\n"
     ]
    }
   ],
   "source": [
    "print(test_data_prediction[0:5])#expected sales prediction"
   ]
  },
  {
   "cell_type": "code",
   "execution_count": 44,
   "id": "78123279",
   "metadata": {},
   "outputs": [
    {
     "data": {
      "text/html": [
       "<div>\n",
       "<style scoped>\n",
       "    .dataframe tbody tr th:only-of-type {\n",
       "        vertical-align: middle;\n",
       "    }\n",
       "\n",
       "    .dataframe tbody tr th {\n",
       "        vertical-align: top;\n",
       "    }\n",
       "\n",
       "    .dataframe thead th {\n",
       "        text-align: right;\n",
       "    }\n",
       "</style>\n",
       "<table border=\"1\" class=\"dataframe\">\n",
       "  <thead>\n",
       "    <tr style=\"text-align: right;\">\n",
       "      <th></th>\n",
       "      <th>Taxi_dist</th>\n",
       "      <th>Market_dist</th>\n",
       "      <th>Hospital_dist</th>\n",
       "      <th>Carpet_area</th>\n",
       "      <th>Builtup_area</th>\n",
       "      <th>Parking_type</th>\n",
       "      <th>City_type</th>\n",
       "      <th>Rainfall</th>\n",
       "    </tr>\n",
       "  </thead>\n",
       "  <tbody>\n",
       "    <tr>\n",
       "      <th>501</th>\n",
       "      <td>8558.0</td>\n",
       "      <td>13467.0</td>\n",
       "      <td>15079.0</td>\n",
       "      <td>1244.0</td>\n",
       "      <td>1480.0</td>\n",
       "      <td>2</td>\n",
       "      <td>0</td>\n",
       "      <td>860</td>\n",
       "    </tr>\n",
       "    <tr>\n",
       "      <th>121</th>\n",
       "      <td>10106.0</td>\n",
       "      <td>13805.0</td>\n",
       "      <td>16769.0</td>\n",
       "      <td>1909.0</td>\n",
       "      <td>2287.0</td>\n",
       "      <td>1</td>\n",
       "      <td>1</td>\n",
       "      <td>1210</td>\n",
       "    </tr>\n",
       "    <tr>\n",
       "      <th>741</th>\n",
       "      <td>11849.0</td>\n",
       "      <td>9005.0</td>\n",
       "      <td>14370.0</td>\n",
       "      <td>1360.0</td>\n",
       "      <td>1612.0</td>\n",
       "      <td>2</td>\n",
       "      <td>1</td>\n",
       "      <td>490</td>\n",
       "    </tr>\n",
       "    <tr>\n",
       "      <th>458</th>\n",
       "      <td>13925.0</td>\n",
       "      <td>14473.0</td>\n",
       "      <td>17746.0</td>\n",
       "      <td>1513.0</td>\n",
       "      <td>1820.0</td>\n",
       "      <td>2</td>\n",
       "      <td>1</td>\n",
       "      <td>520</td>\n",
       "    </tr>\n",
       "    <tr>\n",
       "      <th>739</th>\n",
       "      <td>10073.0</td>\n",
       "      <td>10474.0</td>\n",
       "      <td>13497.0</td>\n",
       "      <td>1247.0</td>\n",
       "      <td>1497.0</td>\n",
       "      <td>2</td>\n",
       "      <td>1</td>\n",
       "      <td>590</td>\n",
       "    </tr>\n",
       "  </tbody>\n",
       "</table>\n",
       "</div>"
      ],
      "text/plain": [
       "     Taxi_dist  Market_dist  Hospital_dist  Carpet_area  Builtup_area  \\\n",
       "501     8558.0      13467.0        15079.0       1244.0        1480.0   \n",
       "121    10106.0      13805.0        16769.0       1909.0        2287.0   \n",
       "741    11849.0       9005.0        14370.0       1360.0        1612.0   \n",
       "458    13925.0      14473.0        17746.0       1513.0        1820.0   \n",
       "739    10073.0      10474.0        13497.0       1247.0        1497.0   \n",
       "\n",
       "     Parking_type  City_type  Rainfall  \n",
       "501             2          0       860  \n",
       "121             1          1      1210  \n",
       "741             2          1       490  \n",
       "458             2          1       520  \n",
       "739             2          1       590  "
      ]
     },
     "execution_count": 44,
     "metadata": {},
     "output_type": "execute_result"
    }
   ],
   "source": [
    "X_test.head()"
   ]
  },
  {
   "cell_type": "code",
   "execution_count": 45,
   "id": "4c3baed4",
   "metadata": {},
   "outputs": [
    {
     "data": {
      "text/plain": [
       "501    9353000\n",
       "121    4683000\n",
       "741    6108000\n",
       "458    6602000\n",
       "739    2833000\n",
       "Name: Price_house, dtype: int64"
      ]
     },
     "execution_count": 45,
     "metadata": {},
     "output_type": "execute_result"
    }
   ],
   "source": [
    "Y_test.head()#actual sales"
   ]
  },
  {
   "cell_type": "code",
   "execution_count": 46,
   "id": "fc26a753",
   "metadata": {},
   "outputs": [],
   "source": [
    "from sklearn.ensemble import AdaBoostRegressor #using different regression model to check which model is better \n",
    "from sklearn.datasets import make_regression"
   ]
  },
  {
   "cell_type": "code",
   "execution_count": 47,
   "id": "cd0a7b23",
   "metadata": {},
   "outputs": [],
   "source": [
    "Adaregressor = AdaBoostRegressor()#calling AdaboostRegressor."
   ]
  },
  {
   "cell_type": "code",
   "execution_count": 48,
   "id": "0a4753bf",
   "metadata": {},
   "outputs": [
    {
     "data": {
      "text/plain": [
       "AdaBoostRegressor()"
      ]
     },
     "execution_count": 48,
     "metadata": {},
     "output_type": "execute_result"
    }
   ],
   "source": [
    "Adaregressor.fit(X_train, Y_train)"
   ]
  },
  {
   "cell_type": "code",
   "execution_count": 49,
   "id": "1d038640",
   "metadata": {},
   "outputs": [],
   "source": [
    "training_data_prediction = Adaregressor.predict(X_train)"
   ]
  },
  {
   "cell_type": "code",
   "execution_count": 50,
   "id": "1910b134",
   "metadata": {},
   "outputs": [],
   "source": [
    "Adar2_train = metrics.r2_score(Y_train, training_data_prediction)"
   ]
  },
  {
   "cell_type": "code",
   "execution_count": 51,
   "id": "1a471954",
   "metadata": {},
   "outputs": [
    {
     "name": "stdout",
     "output_type": "stream",
     "text": [
      "R Squared value =  0.9526814307906761\n"
     ]
    }
   ],
   "source": [
    "print('R Squared value = ', Adar2_train)"
   ]
  },
  {
   "cell_type": "code",
   "execution_count": 52,
   "id": "1489166a",
   "metadata": {},
   "outputs": [],
   "source": [
    "test_data_prediction = Adaregressor.predict(X_test)"
   ]
  },
  {
   "cell_type": "code",
   "execution_count": 53,
   "id": "2f4349ea",
   "metadata": {},
   "outputs": [],
   "source": [
    "Adar2_test = metrics.r2_score(Y_test, test_data_prediction)"
   ]
  },
  {
   "cell_type": "code",
   "execution_count": 54,
   "id": "f07fda19",
   "metadata": {},
   "outputs": [
    {
     "name": "stdout",
     "output_type": "stream",
     "text": [
      "R Squared value =  0.47890782026332746\n"
     ]
    }
   ],
   "source": [
    "print('R Squared value = ', Adar2_test)"
   ]
  },
  {
   "cell_type": "code",
   "execution_count": null,
   "id": "90c25842",
   "metadata": {},
   "outputs": [],
   "source": []
  }
 ],
 "metadata": {
  "kernelspec": {
   "display_name": "Python 3",
   "language": "python",
   "name": "python3"
  },
  "language_info": {
   "codemirror_mode": {
    "name": "ipython",
    "version": 3
   },
   "file_extension": ".py",
   "mimetype": "text/x-python",
   "name": "python",
   "nbconvert_exporter": "python",
   "pygments_lexer": "ipython3",
   "version": "3.8.8"
  }
 },
 "nbformat": 4,
 "nbformat_minor": 5
}
